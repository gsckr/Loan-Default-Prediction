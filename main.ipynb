{
 "cells": [
  {
   "cell_type": "code",
   "execution_count": 7,
   "id": "a6cd8539-2923-4680-b2fd-4bfbd904e2a9",
   "metadata": {},
   "outputs": [
    {
     "data": {
      "text/html": [
       "<div>\n",
       "<style scoped>\n",
       "    .dataframe tbody tr th:only-of-type {\n",
       "        vertical-align: middle;\n",
       "    }\n",
       "\n",
       "    .dataframe tbody tr th {\n",
       "        vertical-align: top;\n",
       "    }\n",
       "\n",
       "    .dataframe thead th {\n",
       "        text-align: right;\n",
       "    }\n",
       "</style>\n",
       "<table border=\"1\" class=\"dataframe\">\n",
       "  <thead>\n",
       "    <tr style=\"text-align: right;\">\n",
       "      <th></th>\n",
       "      <th>Unnamed: 0</th>\n",
       "      <th>SeriousDlqin2yrs</th>\n",
       "      <th>RevolvingUtilizationOfUnsecuredLines</th>\n",
       "      <th>age</th>\n",
       "      <th>NumberOfTime30-59DaysPastDueNotWorse</th>\n",
       "      <th>DebtRatio</th>\n",
       "      <th>MonthlyIncome</th>\n",
       "      <th>NumberOfOpenCreditLinesAndLoans</th>\n",
       "      <th>NumberOfTimes90DaysLate</th>\n",
       "      <th>NumberRealEstateLoansOrLines</th>\n",
       "      <th>NumberOfTime60-89DaysPastDueNotWorse</th>\n",
       "      <th>NumberOfDependents</th>\n",
       "    </tr>\n",
       "  </thead>\n",
       "  <tbody>\n",
       "    <tr>\n",
       "      <th>0</th>\n",
       "      <td>1</td>\n",
       "      <td>1</td>\n",
       "      <td>0.766127</td>\n",
       "      <td>45</td>\n",
       "      <td>2</td>\n",
       "      <td>0.802982</td>\n",
       "      <td>9120.0</td>\n",
       "      <td>13</td>\n",
       "      <td>0</td>\n",
       "      <td>6</td>\n",
       "      <td>0</td>\n",
       "      <td>2.0</td>\n",
       "    </tr>\n",
       "    <tr>\n",
       "      <th>1</th>\n",
       "      <td>2</td>\n",
       "      <td>0</td>\n",
       "      <td>0.957151</td>\n",
       "      <td>40</td>\n",
       "      <td>0</td>\n",
       "      <td>0.121876</td>\n",
       "      <td>2600.0</td>\n",
       "      <td>4</td>\n",
       "      <td>0</td>\n",
       "      <td>0</td>\n",
       "      <td>0</td>\n",
       "      <td>1.0</td>\n",
       "    </tr>\n",
       "    <tr>\n",
       "      <th>2</th>\n",
       "      <td>3</td>\n",
       "      <td>0</td>\n",
       "      <td>0.658180</td>\n",
       "      <td>38</td>\n",
       "      <td>1</td>\n",
       "      <td>0.085113</td>\n",
       "      <td>3042.0</td>\n",
       "      <td>2</td>\n",
       "      <td>1</td>\n",
       "      <td>0</td>\n",
       "      <td>0</td>\n",
       "      <td>0.0</td>\n",
       "    </tr>\n",
       "    <tr>\n",
       "      <th>3</th>\n",
       "      <td>4</td>\n",
       "      <td>0</td>\n",
       "      <td>0.233810</td>\n",
       "      <td>30</td>\n",
       "      <td>0</td>\n",
       "      <td>0.036050</td>\n",
       "      <td>3300.0</td>\n",
       "      <td>5</td>\n",
       "      <td>0</td>\n",
       "      <td>0</td>\n",
       "      <td>0</td>\n",
       "      <td>0.0</td>\n",
       "    </tr>\n",
       "    <tr>\n",
       "      <th>4</th>\n",
       "      <td>5</td>\n",
       "      <td>0</td>\n",
       "      <td>0.907239</td>\n",
       "      <td>49</td>\n",
       "      <td>1</td>\n",
       "      <td>0.024926</td>\n",
       "      <td>63588.0</td>\n",
       "      <td>7</td>\n",
       "      <td>0</td>\n",
       "      <td>1</td>\n",
       "      <td>0</td>\n",
       "      <td>0.0</td>\n",
       "    </tr>\n",
       "    <tr>\n",
       "      <th>...</th>\n",
       "      <td>...</td>\n",
       "      <td>...</td>\n",
       "      <td>...</td>\n",
       "      <td>...</td>\n",
       "      <td>...</td>\n",
       "      <td>...</td>\n",
       "      <td>...</td>\n",
       "      <td>...</td>\n",
       "      <td>...</td>\n",
       "      <td>...</td>\n",
       "      <td>...</td>\n",
       "      <td>...</td>\n",
       "    </tr>\n",
       "    <tr>\n",
       "      <th>149995</th>\n",
       "      <td>149996</td>\n",
       "      <td>0</td>\n",
       "      <td>0.040674</td>\n",
       "      <td>74</td>\n",
       "      <td>0</td>\n",
       "      <td>0.225131</td>\n",
       "      <td>2100.0</td>\n",
       "      <td>4</td>\n",
       "      <td>0</td>\n",
       "      <td>1</td>\n",
       "      <td>0</td>\n",
       "      <td>0.0</td>\n",
       "    </tr>\n",
       "    <tr>\n",
       "      <th>149996</th>\n",
       "      <td>149997</td>\n",
       "      <td>0</td>\n",
       "      <td>0.299745</td>\n",
       "      <td>44</td>\n",
       "      <td>0</td>\n",
       "      <td>0.716562</td>\n",
       "      <td>5584.0</td>\n",
       "      <td>4</td>\n",
       "      <td>0</td>\n",
       "      <td>1</td>\n",
       "      <td>0</td>\n",
       "      <td>2.0</td>\n",
       "    </tr>\n",
       "    <tr>\n",
       "      <th>149997</th>\n",
       "      <td>149998</td>\n",
       "      <td>0</td>\n",
       "      <td>0.246044</td>\n",
       "      <td>58</td>\n",
       "      <td>0</td>\n",
       "      <td>3870.000000</td>\n",
       "      <td>NaN</td>\n",
       "      <td>18</td>\n",
       "      <td>0</td>\n",
       "      <td>1</td>\n",
       "      <td>0</td>\n",
       "      <td>0.0</td>\n",
       "    </tr>\n",
       "    <tr>\n",
       "      <th>149998</th>\n",
       "      <td>149999</td>\n",
       "      <td>0</td>\n",
       "      <td>0.000000</td>\n",
       "      <td>30</td>\n",
       "      <td>0</td>\n",
       "      <td>0.000000</td>\n",
       "      <td>5716.0</td>\n",
       "      <td>4</td>\n",
       "      <td>0</td>\n",
       "      <td>0</td>\n",
       "      <td>0</td>\n",
       "      <td>0.0</td>\n",
       "    </tr>\n",
       "    <tr>\n",
       "      <th>149999</th>\n",
       "      <td>150000</td>\n",
       "      <td>0</td>\n",
       "      <td>0.850283</td>\n",
       "      <td>64</td>\n",
       "      <td>0</td>\n",
       "      <td>0.249908</td>\n",
       "      <td>8158.0</td>\n",
       "      <td>8</td>\n",
       "      <td>0</td>\n",
       "      <td>2</td>\n",
       "      <td>0</td>\n",
       "      <td>0.0</td>\n",
       "    </tr>\n",
       "  </tbody>\n",
       "</table>\n",
       "<p>150000 rows × 12 columns</p>\n",
       "</div>"
      ],
      "text/plain": [
       "        Unnamed: 0  SeriousDlqin2yrs  RevolvingUtilizationOfUnsecuredLines  \\\n",
       "0                1                 1                              0.766127   \n",
       "1                2                 0                              0.957151   \n",
       "2                3                 0                              0.658180   \n",
       "3                4                 0                              0.233810   \n",
       "4                5                 0                              0.907239   \n",
       "...            ...               ...                                   ...   \n",
       "149995      149996                 0                              0.040674   \n",
       "149996      149997                 0                              0.299745   \n",
       "149997      149998                 0                              0.246044   \n",
       "149998      149999                 0                              0.000000   \n",
       "149999      150000                 0                              0.850283   \n",
       "\n",
       "        age  NumberOfTime30-59DaysPastDueNotWorse    DebtRatio  MonthlyIncome  \\\n",
       "0        45                                     2     0.802982         9120.0   \n",
       "1        40                                     0     0.121876         2600.0   \n",
       "2        38                                     1     0.085113         3042.0   \n",
       "3        30                                     0     0.036050         3300.0   \n",
       "4        49                                     1     0.024926        63588.0   \n",
       "...     ...                                   ...          ...            ...   \n",
       "149995   74                                     0     0.225131         2100.0   \n",
       "149996   44                                     0     0.716562         5584.0   \n",
       "149997   58                                     0  3870.000000            NaN   \n",
       "149998   30                                     0     0.000000         5716.0   \n",
       "149999   64                                     0     0.249908         8158.0   \n",
       "\n",
       "        NumberOfOpenCreditLinesAndLoans  NumberOfTimes90DaysLate  \\\n",
       "0                                    13                        0   \n",
       "1                                     4                        0   \n",
       "2                                     2                        1   \n",
       "3                                     5                        0   \n",
       "4                                     7                        0   \n",
       "...                                 ...                      ...   \n",
       "149995                                4                        0   \n",
       "149996                                4                        0   \n",
       "149997                               18                        0   \n",
       "149998                                4                        0   \n",
       "149999                                8                        0   \n",
       "\n",
       "        NumberRealEstateLoansOrLines  NumberOfTime60-89DaysPastDueNotWorse  \\\n",
       "0                                  6                                     0   \n",
       "1                                  0                                     0   \n",
       "2                                  0                                     0   \n",
       "3                                  0                                     0   \n",
       "4                                  1                                     0   \n",
       "...                              ...                                   ...   \n",
       "149995                             1                                     0   \n",
       "149996                             1                                     0   \n",
       "149997                             1                                     0   \n",
       "149998                             0                                     0   \n",
       "149999                             2                                     0   \n",
       "\n",
       "        NumberOfDependents  \n",
       "0                      2.0  \n",
       "1                      1.0  \n",
       "2                      0.0  \n",
       "3                      0.0  \n",
       "4                      0.0  \n",
       "...                    ...  \n",
       "149995                 0.0  \n",
       "149996                 2.0  \n",
       "149997                 0.0  \n",
       "149998                 0.0  \n",
       "149999                 0.0  \n",
       "\n",
       "[150000 rows x 12 columns]"
      ]
     },
     "execution_count": 7,
     "metadata": {},
     "output_type": "execute_result"
    }
   ],
   "source": [
    "import pandas as pd\n",
    "df=pd.read_csv('cs-training.csv')\n",
    "df"
   ]
  },
  {
   "cell_type": "code",
   "execution_count": 8,
   "id": "d6ea71b5-6884-43e6-bcec-74cca64eb769",
   "metadata": {},
   "outputs": [
    {
     "name": "stdout",
     "output_type": "stream",
     "text": [
      "<class 'pandas.core.frame.DataFrame'>\n",
      "RangeIndex: 150000 entries, 0 to 149999\n",
      "Data columns (total 12 columns):\n",
      " #   Column                                Non-Null Count   Dtype  \n",
      "---  ------                                --------------   -----  \n",
      " 0   Unnamed: 0                            150000 non-null  int64  \n",
      " 1   SeriousDlqin2yrs                      150000 non-null  int64  \n",
      " 2   RevolvingUtilizationOfUnsecuredLines  150000 non-null  float64\n",
      " 3   age                                   150000 non-null  int64  \n",
      " 4   NumberOfTime30-59DaysPastDueNotWorse  150000 non-null  int64  \n",
      " 5   DebtRatio                             150000 non-null  float64\n",
      " 6   MonthlyIncome                         120269 non-null  float64\n",
      " 7   NumberOfOpenCreditLinesAndLoans       150000 non-null  int64  \n",
      " 8   NumberOfTimes90DaysLate               150000 non-null  int64  \n",
      " 9   NumberRealEstateLoansOrLines          150000 non-null  int64  \n",
      " 10  NumberOfTime60-89DaysPastDueNotWorse  150000 non-null  int64  \n",
      " 11  NumberOfDependents                    146076 non-null  float64\n",
      "dtypes: float64(4), int64(8)\n",
      "memory usage: 13.7 MB\n"
     ]
    }
   ],
   "source": [
    "df.info()"
   ]
  },
  {
   "cell_type": "code",
   "execution_count": 9,
   "id": "d7a190a0-47d4-4bb3-a6dc-f0397cd5feb4",
   "metadata": {},
   "outputs": [
    {
     "data": {
      "text/plain": [
       "Unnamed: 0                                  0\n",
       "SeriousDlqin2yrs                            0\n",
       "RevolvingUtilizationOfUnsecuredLines        0\n",
       "age                                         0\n",
       "NumberOfTime30-59DaysPastDueNotWorse        0\n",
       "DebtRatio                                   0\n",
       "MonthlyIncome                           29731\n",
       "NumberOfOpenCreditLinesAndLoans             0\n",
       "NumberOfTimes90DaysLate                     0\n",
       "NumberRealEstateLoansOrLines                0\n",
       "NumberOfTime60-89DaysPastDueNotWorse        0\n",
       "NumberOfDependents                       3924\n",
       "dtype: int64"
      ]
     },
     "execution_count": 9,
     "metadata": {},
     "output_type": "execute_result"
    }
   ],
   "source": [
    "df.isnull().sum()"
   ]
  },
  {
   "cell_type": "code",
   "execution_count": 10,
   "id": "3f86ecc8-543a-46ef-89ea-499d406aaa47",
   "metadata": {},
   "outputs": [],
   "source": [
    "df = df.dropna(subset=['NumberOfDependents'])"
   ]
  },
  {
   "cell_type": "code",
   "execution_count": 11,
   "id": "b6358427-e3c1-4cf1-8e4d-a453d95ff888",
   "metadata": {},
   "outputs": [],
   "source": [
    "df = df.drop(columns=['Unnamed: 0'])"
   ]
  },
  {
   "cell_type": "code",
   "execution_count": 12,
   "id": "5d0e0216-620d-4b0e-b9f3-d7b3c1bb0da3",
   "metadata": {},
   "outputs": [
    {
     "data": {
      "text/plain": [
       "SeriousDlqin2yrs                            0\n",
       "RevolvingUtilizationOfUnsecuredLines        0\n",
       "age                                         0\n",
       "NumberOfTime30-59DaysPastDueNotWorse        0\n",
       "DebtRatio                                   0\n",
       "MonthlyIncome                           25807\n",
       "NumberOfOpenCreditLinesAndLoans             0\n",
       "NumberOfTimes90DaysLate                     0\n",
       "NumberRealEstateLoansOrLines                0\n",
       "NumberOfTime60-89DaysPastDueNotWorse        0\n",
       "NumberOfDependents                          0\n",
       "dtype: int64"
      ]
     },
     "execution_count": 12,
     "metadata": {},
     "output_type": "execute_result"
    }
   ],
   "source": [
    "df.isnull().sum()"
   ]
  },
  {
   "cell_type": "code",
   "execution_count": 13,
   "id": "1467b170-3285-47f5-95fa-509d861fe251",
   "metadata": {},
   "outputs": [],
   "source": [
    "df['IncomeMissing']=df['MonthlyIncome'].isnull().astype(int)"
   ]
  },
  {
   "cell_type": "code",
   "execution_count": 14,
   "id": "aa98afe5-bddb-47f9-b319-1b526c713565",
   "metadata": {},
   "outputs": [
    {
     "data": {
      "text/plain": [
       "0"
      ]
     },
     "execution_count": 14,
     "metadata": {},
     "output_type": "execute_result"
    }
   ],
   "source": [
    "median_income=df['MonthlyIncome'].median()\n",
    "df['MonthlyIncome'].fillna(median_income,inplace=True)\n",
    "df['MonthlyIncome'].isnull().sum()"
   ]
  },
  {
   "cell_type": "code",
   "execution_count": 15,
   "id": "21cbee0b-e75f-4bbe-b089-4303e5d2a738",
   "metadata": {},
   "outputs": [
    {
     "data": {
      "text/plain": [
       "SeriousDlqin2yrs\n",
       "0    136229\n",
       "1      9847\n",
       "Name: count, dtype: int64"
      ]
     },
     "execution_count": 15,
     "metadata": {},
     "output_type": "execute_result"
    }
   ],
   "source": [
    "df['SeriousDlqin2yrs'].value_counts()"
   ]
  },
  {
   "cell_type": "code",
   "execution_count": 16,
   "id": "f6552a69-55c0-44ab-8af0-0a01fcce4e3b",
   "metadata": {},
   "outputs": [
    {
     "data": {
      "image/png": "[encoded data removed]",
      "text/plain": [
       "<Figure size 600x400 with 1 Axes>"
      ]
     },
     "metadata": {},
     "output_type": "display_data"
    }
   ],
   "source": [
    "import matplotlib.pyplot as plt \n",
    "import seaborn as sns \n",
    "target_count=df['SeriousDlqin2yrs'].value_counts()\n",
    "plt.figure(figsize=(6,4))\n",
    "sns.barplot(x=target_count.index,y=target_count.values,palette='viridis')\n",
    "plt.title(\"Target Variable Distribution: SeriousDlqin2yrs\")\n",
    "plt.xlabel(\"Loan Default (0 = No, 1 = Yes)\")\n",
    "plt.ylabel(\"Count\")\n",
    "for i, val in enumerate(target_count.values):\n",
    "    plt.text(i, val + 500, str(val), ha='center', fontweight='bold')\n",
    "plt.show()"
   ]
  },
  {
   "cell_type": "code",
   "execution_count": 17,
   "id": "90420082-25f2-41f0-adcd-883d9009f0c1",
   "metadata": {},
   "outputs": [
    {
     "data": {
      "text/html": [
       "<div>\n",
       "<style scoped>\n",
       "    .dataframe tbody tr th:only-of-type {\n",
       "        vertical-align: middle;\n",
       "    }\n",
       "\n",
       "    .dataframe tbody tr th {\n",
       "        vertical-align: top;\n",
       "    }\n",
       "\n",
       "    .dataframe thead th {\n",
       "        text-align: right;\n",
       "    }\n",
       "</style>\n",
       "<table border=\"1\" class=\"dataframe\">\n",
       "  <thead>\n",
       "    <tr style=\"text-align: right;\">\n",
       "      <th></th>\n",
       "      <th>SeriousDlqin2yrs</th>\n",
       "      <th>RevolvingUtilizationOfUnsecuredLines</th>\n",
       "      <th>age</th>\n",
       "      <th>NumberOfTime30-59DaysPastDueNotWorse</th>\n",
       "      <th>DebtRatio</th>\n",
       "      <th>MonthlyIncome</th>\n",
       "      <th>NumberOfOpenCreditLinesAndLoans</th>\n",
       "      <th>NumberOfTimes90DaysLate</th>\n",
       "      <th>NumberRealEstateLoansOrLines</th>\n",
       "      <th>NumberOfTime60-89DaysPastDueNotWorse</th>\n",
       "      <th>NumberOfDependents</th>\n",
       "      <th>IncomeMissing</th>\n",
       "    </tr>\n",
       "  </thead>\n",
       "  <tbody>\n",
       "    <tr>\n",
       "      <th>SeriousDlqin2yrs</th>\n",
       "      <td>1.000000</td>\n",
       "      <td>-0.001601</td>\n",
       "      <td>-0.113907</td>\n",
       "      <td>0.127084</td>\n",
       "      <td>-0.007747</td>\n",
       "      <td>-0.017495</td>\n",
       "      <td>-0.031478</td>\n",
       "      <td>0.118148</td>\n",
       "      <td>-0.008379</td>\n",
       "      <td>0.102397</td>\n",
       "      <td>0.046048</td>\n",
       "      <td>-0.017872</td>\n",
       "    </tr>\n",
       "    <tr>\n",
       "      <th>RevolvingUtilizationOfUnsecuredLines</th>\n",
       "      <td>-0.001601</td>\n",
       "      <td>1.000000</td>\n",
       "      <td>-0.005808</td>\n",
       "      <td>-0.001235</td>\n",
       "      <td>0.004059</td>\n",
       "      <td>0.006632</td>\n",
       "      <td>-0.011021</td>\n",
       "      <td>-0.000995</td>\n",
       "      <td>0.006633</td>\n",
       "      <td>-0.000987</td>\n",
       "      <td>0.001557</td>\n",
       "      <td>0.000193</td>\n",
       "    </tr>\n",
       "    <tr>\n",
       "      <th>age</th>\n",
       "      <td>-0.113907</td>\n",
       "      <td>-0.005808</td>\n",
       "      <td>1.000000</td>\n",
       "      <td>-0.057981</td>\n",
       "      <td>0.025773</td>\n",
       "      <td>0.029347</td>\n",
       "      <td>0.157961</td>\n",
       "      <td>-0.056152</td>\n",
       "      <td>0.041663</td>\n",
       "      <td>-0.052066</td>\n",
       "      <td>-0.213303</td>\n",
       "      <td>0.119659</td>\n",
       "    </tr>\n",
       "    <tr>\n",
       "      <th>NumberOfTime30-59DaysPastDueNotWorse</th>\n",
       "      <td>0.127084</td>\n",
       "      <td>-0.001235</td>\n",
       "      <td>-0.057981</td>\n",
       "      <td>1.000000</td>\n",
       "      <td>-0.006064</td>\n",
       "      <td>-0.008623</td>\n",
       "      <td>-0.052329</td>\n",
       "      <td>0.981770</td>\n",
       "      <td>-0.029059</td>\n",
       "      <td>0.985573</td>\n",
       "      <td>-0.002680</td>\n",
       "      <td>0.014117</td>\n",
       "    </tr>\n",
       "    <tr>\n",
       "      <th>DebtRatio</th>\n",
       "      <td>-0.007747</td>\n",
       "      <td>0.004059</td>\n",
       "      <td>0.025773</td>\n",
       "      <td>-0.006064</td>\n",
       "      <td>1.000000</td>\n",
       "      <td>-0.018321</td>\n",
       "      <td>0.051044</td>\n",
       "      <td>-0.007972</td>\n",
       "      <td>0.116461</td>\n",
       "      <td>-0.007118</td>\n",
       "      <td>-0.040673</td>\n",
       "      <td>0.340686</td>\n",
       "    </tr>\n",
       "    <tr>\n",
       "      <th>MonthlyIncome</th>\n",
       "      <td>-0.017495</td>\n",
       "      <td>0.006632</td>\n",
       "      <td>0.029347</td>\n",
       "      <td>-0.008623</td>\n",
       "      <td>-0.018321</td>\n",
       "      <td>1.000000</td>\n",
       "      <td>0.086866</td>\n",
       "      <td>-0.010848</td>\n",
       "      <td>0.116710</td>\n",
       "      <td>-0.009523</td>\n",
       "      <td>0.065296</td>\n",
       "      <td>-0.037090</td>\n",
       "    </tr>\n",
       "    <tr>\n",
       "      <th>NumberOfOpenCreditLinesAndLoans</th>\n",
       "      <td>-0.031478</td>\n",
       "      <td>-0.011021</td>\n",
       "      <td>0.157961</td>\n",
       "      <td>-0.052329</td>\n",
       "      <td>0.051044</td>\n",
       "      <td>0.086866</td>\n",
       "      <td>1.000000</td>\n",
       "      <td>-0.078079</td>\n",
       "      <td>0.430833</td>\n",
       "      <td>-0.068600</td>\n",
       "      <td>0.065322</td>\n",
       "      <td>-0.096083</td>\n",
       "    </tr>\n",
       "    <tr>\n",
       "      <th>NumberOfTimes90DaysLate</th>\n",
       "      <td>0.118148</td>\n",
       "      <td>-0.000995</td>\n",
       "      <td>-0.056152</td>\n",
       "      <td>0.981770</td>\n",
       "      <td>-0.007972</td>\n",
       "      <td>-0.010848</td>\n",
       "      <td>-0.078079</td>\n",
       "      <td>1.000000</td>\n",
       "      <td>-0.044271</td>\n",
       "      <td>0.991976</td>\n",
       "      <td>-0.010176</td>\n",
       "      <td>0.021046</td>\n",
       "    </tr>\n",
       "    <tr>\n",
       "      <th>NumberRealEstateLoansOrLines</th>\n",
       "      <td>-0.008379</td>\n",
       "      <td>0.006633</td>\n",
       "      <td>0.041663</td>\n",
       "      <td>-0.029059</td>\n",
       "      <td>0.116461</td>\n",
       "      <td>0.116710</td>\n",
       "      <td>0.430833</td>\n",
       "      <td>-0.044271</td>\n",
       "      <td>1.000000</td>\n",
       "      <td>-0.038429</td>\n",
       "      <td>0.124684</td>\n",
       "      <td>-0.047267</td>\n",
       "    </tr>\n",
       "    <tr>\n",
       "      <th>NumberOfTime60-89DaysPastDueNotWorse</th>\n",
       "      <td>0.102397</td>\n",
       "      <td>-0.000987</td>\n",
       "      <td>-0.052066</td>\n",
       "      <td>0.985573</td>\n",
       "      <td>-0.007118</td>\n",
       "      <td>-0.009523</td>\n",
       "      <td>-0.068600</td>\n",
       "      <td>0.991976</td>\n",
       "      <td>-0.038429</td>\n",
       "      <td>1.000000</td>\n",
       "      <td>-0.010922</td>\n",
       "      <td>0.020268</td>\n",
       "    </tr>\n",
       "    <tr>\n",
       "      <th>NumberOfDependents</th>\n",
       "      <td>0.046048</td>\n",
       "      <td>0.001557</td>\n",
       "      <td>-0.213303</td>\n",
       "      <td>-0.002680</td>\n",
       "      <td>-0.040673</td>\n",
       "      <td>0.065296</td>\n",
       "      <td>0.065322</td>\n",
       "      <td>-0.010176</td>\n",
       "      <td>0.124684</td>\n",
       "      <td>-0.010922</td>\n",
       "      <td>1.000000</td>\n",
       "      <td>-0.183163</td>\n",
       "    </tr>\n",
       "    <tr>\n",
       "      <th>IncomeMissing</th>\n",
       "      <td>-0.017872</td>\n",
       "      <td>0.000193</td>\n",
       "      <td>0.119659</td>\n",
       "      <td>0.014117</td>\n",
       "      <td>0.340686</td>\n",
       "      <td>-0.037090</td>\n",
       "      <td>-0.096083</td>\n",
       "      <td>0.021046</td>\n",
       "      <td>-0.047267</td>\n",
       "      <td>0.020268</td>\n",
       "      <td>-0.183163</td>\n",
       "      <td>1.000000</td>\n",
       "    </tr>\n",
       "  </tbody>\n",
       "</table>\n",
       "</div>"
      ],
      "text/plain": [
       "                                      SeriousDlqin2yrs  \\\n",
       "SeriousDlqin2yrs                              1.000000   \n",
       "RevolvingUtilizationOfUnsecuredLines         -0.001601   \n",
       "age                                          -0.113907   \n",
       "NumberOfTime30-59DaysPastDueNotWorse          0.127084   \n",
       "DebtRatio                                    -0.007747   \n",
       "MonthlyIncome                                -0.017495   \n",
       "NumberOfOpenCreditLinesAndLoans              -0.031478   \n",
       "NumberOfTimes90DaysLate                       0.118148   \n",
       "NumberRealEstateLoansOrLines                 -0.008379   \n",
       "NumberOfTime60-89DaysPastDueNotWorse          0.102397   \n",
       "NumberOfDependents                            0.046048   \n",
       "IncomeMissing                                -0.017872   \n",
       "\n",
       "                                      RevolvingUtilizationOfUnsecuredLines  \\\n",
       "SeriousDlqin2yrs                                                 -0.001601   \n",
       "RevolvingUtilizationOfUnsecuredLines                              1.000000   \n",
       "age                                                              -0.005808   \n",
       "NumberOfTime30-59DaysPastDueNotWorse                             -0.001235   \n",
       "DebtRatio                                                         0.004059   \n",
       "MonthlyIncome                                                     0.006632   \n",
       "NumberOfOpenCreditLinesAndLoans                                  -0.011021   \n",
       "NumberOfTimes90DaysLate                                          -0.000995   \n",
       "NumberRealEstateLoansOrLines                                      0.006633   \n",
       "NumberOfTime60-89DaysPastDueNotWorse                             -0.000987   \n",
       "NumberOfDependents                                                0.001557   \n",
       "IncomeMissing                                                     0.000193   \n",
       "\n",
       "                                           age  \\\n",
       "SeriousDlqin2yrs                     -0.113907   \n",
       "RevolvingUtilizationOfUnsecuredLines -0.005808   \n",
       "age                                   1.000000   \n",
       "NumberOfTime30-59DaysPastDueNotWorse -0.057981   \n",
       "DebtRatio                             0.025773   \n",
       "MonthlyIncome                         0.029347   \n",
       "NumberOfOpenCreditLinesAndLoans       0.157961   \n",
       "NumberOfTimes90DaysLate              -0.056152   \n",
       "NumberRealEstateLoansOrLines          0.041663   \n",
       "NumberOfTime60-89DaysPastDueNotWorse -0.052066   \n",
       "NumberOfDependents                   -0.213303   \n",
       "IncomeMissing                         0.119659   \n",
       "\n",
       "                                      NumberOfTime30-59DaysPastDueNotWorse  \\\n",
       "SeriousDlqin2yrs                                                  0.127084   \n",
       "RevolvingUtilizationOfUnsecuredLines                             -0.001235   \n",
       "age                                                              -0.057981   \n",
       "NumberOfTime30-59DaysPastDueNotWorse                              1.000000   \n",
       "DebtRatio                                                        -0.006064   \n",
       "MonthlyIncome                                                    -0.008623   \n",
       "NumberOfOpenCreditLinesAndLoans                                  -0.052329   \n",
       "NumberOfTimes90DaysLate                                           0.981770   \n",
       "NumberRealEstateLoansOrLines                                     -0.029059   \n",
       "NumberOfTime60-89DaysPastDueNotWorse                              0.985573   \n",
       "NumberOfDependents                                               -0.002680   \n",
       "IncomeMissing                                                     0.014117   \n",
       "\n",
       "                                      DebtRatio  MonthlyIncome  \\\n",
       "SeriousDlqin2yrs                      -0.007747      -0.017495   \n",
       "RevolvingUtilizationOfUnsecuredLines   0.004059       0.006632   \n",
       "age                                    0.025773       0.029347   \n",
       "NumberOfTime30-59DaysPastDueNotWorse  -0.006064      -0.008623   \n",
       "DebtRatio                              1.000000      -0.018321   \n",
       "MonthlyIncome                         -0.018321       1.000000   \n",
       "NumberOfOpenCreditLinesAndLoans        0.051044       0.086866   \n",
       "NumberOfTimes90DaysLate               -0.007972      -0.010848   \n",
       "NumberRealEstateLoansOrLines           0.116461       0.116710   \n",
       "NumberOfTime60-89DaysPastDueNotWorse  -0.007118      -0.009523   \n",
       "NumberOfDependents                    -0.040673       0.065296   \n",
       "IncomeMissing                          0.340686      -0.037090   \n",
       "\n",
       "                                      NumberOfOpenCreditLinesAndLoans  \\\n",
       "SeriousDlqin2yrs                                            -0.031478   \n",
       "RevolvingUtilizationOfUnsecuredLines                        -0.011021   \n",
       "age                                                          0.157961   \n",
       "NumberOfTime30-59DaysPastDueNotWorse                        -0.052329   \n",
       "DebtRatio                                                    0.051044   \n",
       "MonthlyIncome                                                0.086866   \n",
       "NumberOfOpenCreditLinesAndLoans                              1.000000   \n",
       "NumberOfTimes90DaysLate                                     -0.078079   \n",
       "NumberRealEstateLoansOrLines                                 0.430833   \n",
       "NumberOfTime60-89DaysPastDueNotWorse                        -0.068600   \n",
       "NumberOfDependents                                           0.065322   \n",
       "IncomeMissing                                               -0.096083   \n",
       "\n",
       "                                      NumberOfTimes90DaysLate  \\\n",
       "SeriousDlqin2yrs                                     0.118148   \n",
       "RevolvingUtilizationOfUnsecuredLines                -0.000995   \n",
       "age                                                 -0.056152   \n",
       "NumberOfTime30-59DaysPastDueNotWorse                 0.981770   \n",
       "DebtRatio                                           -0.007972   \n",
       "MonthlyIncome                                       -0.010848   \n",
       "NumberOfOpenCreditLinesAndLoans                     -0.078079   \n",
       "NumberOfTimes90DaysLate                              1.000000   \n",
       "NumberRealEstateLoansOrLines                        -0.044271   \n",
       "NumberOfTime60-89DaysPastDueNotWorse                 0.991976   \n",
       "NumberOfDependents                                  -0.010176   \n",
       "IncomeMissing                                        0.021046   \n",
       "\n",
       "                                      NumberRealEstateLoansOrLines  \\\n",
       "SeriousDlqin2yrs                                         -0.008379   \n",
       "RevolvingUtilizationOfUnsecuredLines                      0.006633   \n",
       "age                                                       0.041663   \n",
       "NumberOfTime30-59DaysPastDueNotWorse                     -0.029059   \n",
       "DebtRatio                                                 0.116461   \n",
       "MonthlyIncome                                             0.116710   \n",
       "NumberOfOpenCreditLinesAndLoans                           0.430833   \n",
       "NumberOfTimes90DaysLate                                  -0.044271   \n",
       "NumberRealEstateLoansOrLines                              1.000000   \n",
       "NumberOfTime60-89DaysPastDueNotWorse                     -0.038429   \n",
       "NumberOfDependents                                        0.124684   \n",
       "IncomeMissing                                            -0.047267   \n",
       "\n",
       "                                      NumberOfTime60-89DaysPastDueNotWorse  \\\n",
       "SeriousDlqin2yrs                                                  0.102397   \n",
       "RevolvingUtilizationOfUnsecuredLines                             -0.000987   \n",
       "age                                                              -0.052066   \n",
       "NumberOfTime30-59DaysPastDueNotWorse                              0.985573   \n",
       "DebtRatio                                                        -0.007118   \n",
       "MonthlyIncome                                                    -0.009523   \n",
       "NumberOfOpenCreditLinesAndLoans                                  -0.068600   \n",
       "NumberOfTimes90DaysLate                                           0.991976   \n",
       "NumberRealEstateLoansOrLines                                     -0.038429   \n",
       "NumberOfTime60-89DaysPastDueNotWorse                              1.000000   \n",
       "NumberOfDependents                                               -0.010922   \n",
       "IncomeMissing                                                     0.020268   \n",
       "\n",
       "                                      NumberOfDependents  IncomeMissing  \n",
       "SeriousDlqin2yrs                                0.046048      -0.017872  \n",
       "RevolvingUtilizationOfUnsecuredLines            0.001557       0.000193  \n",
       "age                                            -0.213303       0.119659  \n",
       "NumberOfTime30-59DaysPastDueNotWorse           -0.002680       0.014117  \n",
       "DebtRatio                                      -0.040673       0.340686  \n",
       "MonthlyIncome                                   0.065296      -0.037090  \n",
       "NumberOfOpenCreditLinesAndLoans                 0.065322      -0.096083  \n",
       "NumberOfTimes90DaysLate                        -0.010176       0.021046  \n",
       "NumberRealEstateLoansOrLines                    0.124684      -0.047267  \n",
       "NumberOfTime60-89DaysPastDueNotWorse           -0.010922       0.020268  \n",
       "NumberOfDependents                              1.000000      -0.183163  \n",
       "IncomeMissing                                  -0.183163       1.000000  "
      ]
     },
     "execution_count": 17,
     "metadata": {},
     "output_type": "execute_result"
    }
   ],
   "source": [
    "df.corr()"
   ]
  },
  {
   "cell_type": "code",
   "execution_count": 18,
   "id": "e56595ba-7ba7-4d0b-a530-3dd670c7935d",
   "metadata": {},
   "outputs": [
    {
     "name": "stdout",
     "output_type": "stream",
     "text": [
      "SeriousDlqin2yrs\n",
      "0    0.921627\n",
      "1    0.078373\n",
      "Name: proportion, dtype: float64\n"
     ]
    }
   ],
   "source": [
    "import pandas as pd\n",
    "\n",
    "# Separate majority and minority\n",
    "df_0 = df[df['SeriousDlqin2yrs'] == 0]\n",
    "df_1 = df[df['SeriousDlqin2yrs'] == 1]\n",
    "\n",
    "# Drop 15% of zeros randomly\n",
    "df_0_under = df_0.sample(frac=0.85, random_state=42)  # keep 85% → drop 15%\n",
    "\n",
    "# Combine back with minority\n",
    "df_under = pd.concat([df_0_under, df_1], axis=0)\n",
    "\n",
    "# Shuffle dataset\n",
    "df_under = df_under.sample(frac=1, random_state=42).reset_index(drop=True)\n",
    "\n",
    "# Check new distribution\n",
    "print(df_under['SeriousDlqin2yrs'].value_counts(normalize=True))\n"
   ]
  },
  {
   "cell_type": "code",
   "execution_count": 19,
   "id": "fce024dd-3252-4019-a2f8-459047fd3839",
   "metadata": {},
   "outputs": [
    {
     "data": {
      "text/plain": [
       "SeriousDlqin2yrs\n",
       "0    115795\n",
       "1      9847\n",
       "Name: count, dtype: int64"
      ]
     },
     "execution_count": 19,
     "metadata": {},
     "output_type": "execute_result"
    }
   ],
   "source": [
    "df_under['SeriousDlqin2yrs'].value_counts()"
   ]
  },
  {
   "cell_type": "code",
   "execution_count": 20,
   "id": "508a8ecb-06e7-4e86-8e14-671f26139a76",
   "metadata": {},
   "outputs": [],
   "source": [
    "X=df_under.drop('SeriousDlqin2yrs',axis=1)\n",
    "y=df_under['SeriousDlqin2yrs']"
   ]
  },
  {
   "cell_type": "code",
   "execution_count": 21,
   "id": "95654cee-6350-4910-a112-aa1cd0b3977d",
   "metadata": {},
   "outputs": [],
   "source": [
    "from sklearn.preprocessing import StandardScaler\n",
    "scaler = StandardScaler()\n",
    "X_scaled = scaler.fit_transform(X)"
   ]
  },
  {
   "cell_type": "code",
   "execution_count": 22,
   "id": "840bfa6a-a3e8-4e3b-84dc-07202e74315c",
   "metadata": {},
   "outputs": [],
   "source": [
    "from sklearn.model_selection import train_test_split\n",
    "X_train, X_test, y_train, y_test = train_test_split(\n",
    "    X_scaled, y, test_size=0.2, random_state=42, stratify=y\n",
    ")"
   ]
  },
  {
   "cell_type": "code",
   "execution_count": 23,
   "id": "80569719-b19c-4b0d-98cb-4e87bc30bdf3",
   "metadata": {},
   "outputs": [],
   "source": [
    "from sklearn.linear_model import LogisticRegression\n",
    "from sklearn.ensemble import RandomForestClassifier\n",
    "from xgboost import XGBClassifier"
   ]
  },
  {
   "cell_type": "code",
   "execution_count": 42,
   "id": "88355d45-9a09-4213-9bdf-4c06bf68fc3c",
   "metadata": {},
   "outputs": [],
   "source": [
    "model_1=LogisticRegression(class_weight='balanced', random_state=42, max_iter=1000)\n",
    "model_3=RandomForestClassifier()"
   ]
  },
  {
   "cell_type": "code",
   "execution_count": 20,
   "id": "fcb1db2c-b0bf-45d4-8fd1-1aee57da4942",
   "metadata": {},
   "outputs": [],
   "source": [
    "from sklearn.metrics import classification_report"
   ]
  },
  {
   "cell_type": "code",
   "execution_count": 26,
   "id": "a3f87bd6-6fb6-4e85-97d9-8afb6ff331da",
   "metadata": {},
   "outputs": [
    {
     "name": "stdout",
     "output_type": "stream",
     "text": [
      "Classification Report for logistic :\n",
      "               precision    recall  f1-score   support\n",
      "\n",
      "           0       0.96      0.79      0.87     23160\n",
      "           1       0.21      0.64      0.31      1969\n",
      "\n",
      "    accuracy                           0.78     25129\n",
      "   macro avg       0.59      0.72      0.59     25129\n",
      "weighted avg       0.90      0.78      0.83     25129\n",
      "\n"
     ]
    }
   ],
   "source": [
    "#logisitic regression\n",
    "model_1.fit(X_train,y_train)\n",
    "y_pred = model_1.predict(X_test)\n",
    "report = classification_report(y_test, y_pred)\n",
    "print(\"Classification Report for logistic :\\n\", report)"
   ]
  },
  {
   "cell_type": "code",
   "execution_count": 22,
   "id": "1600704a-ebf7-4a71-ae4e-c2b6157971b7",
   "metadata": {},
   "outputs": [
    {
     "name": "stdout",
     "output_type": "stream",
     "text": [
      "Classification Report for random forest:\n",
      "               precision    recall  f1-score   support\n",
      "\n",
      "           0       0.94      0.99      0.96     23160\n",
      "           1       0.57      0.21      0.30      1969\n",
      "\n",
      "    accuracy                           0.93     25129\n",
      "   macro avg       0.75      0.60      0.63     25129\n",
      "weighted avg       0.91      0.93      0.91     25129\n",
      "\n"
     ]
    }
   ],
   "source": [
    "#random forest\n",
    "model_3.fit(X_train,y_train)\n",
    "y_pred = model_3.predict(X_test)\n",
    "report = classification_report(y_test, y_pred)\n",
    "print(\"Classification Report for random forest:\\n\", report)"
   ]
  },
  {
   "cell_type": "code",
   "execution_count": 28,
   "id": "dee97105-d2fc-46ee-9fd4-523d4ab4d31a",
   "metadata": {},
   "outputs": [
    {
     "name": "stdout",
     "output_type": "stream",
     "text": [
      "Fitting 3 folds for each of 50 candidates, totalling 150 fits\n",
      "Best Parameters: {'n_estimators': 200, 'min_samples_split': 2, 'min_samples_leaf': 8, 'max_features': 'log2', 'max_depth': None, 'bootstrap': True}\n",
      "Best F1 Score (class 1): 0.45693541802501764\n"
     ]
    },
    {
     "ename": "NameError",
     "evalue": "name 'X_test_scaled' is not defined",
     "output_type": "error",
     "traceback": [
      "\u001b[1;31m---------------------------------------------------------------------------\u001b[0m",
      "\u001b[1;31mNameError\u001b[0m                                 Traceback (most recent call last)",
      "Cell \u001b[1;32mIn[28], line 41\u001b[0m\n\u001b[0;32m     38\u001b[0m \u001b[38;5;28mprint\u001b[39m(\u001b[38;5;124m\"\u001b[39m\u001b[38;5;124mBest F1 Score (class 1):\u001b[39m\u001b[38;5;124m\"\u001b[39m, random_search\u001b[38;5;241m.\u001b[39mbest_score_)\n\u001b[0;32m     40\u001b[0m \u001b[38;5;66;03m# 7️⃣ Evaluate on test set\u001b[39;00m\n\u001b[1;32m---> 41\u001b[0m y_pred \u001b[38;5;241m=\u001b[39m random_search\u001b[38;5;241m.\u001b[39mpredict(X_test_scaled)\n\u001b[0;32m     42\u001b[0m \u001b[38;5;28;01mfrom\u001b[39;00m \u001b[38;5;21;01msklearn\u001b[39;00m\u001b[38;5;21;01m.\u001b[39;00m\u001b[38;5;21;01mmetrics\u001b[39;00m \u001b[38;5;28;01mimport\u001b[39;00m classification_report\n\u001b[0;32m     43\u001b[0m \u001b[38;5;28mprint\u001b[39m(classification_report(y_test, y_pred))\n",
      "\u001b[1;31mNameError\u001b[0m: name 'X_test_scaled' is not defined"
     ]
    }
   ],
   "source": [
    "from sklearn.ensemble import RandomForestClassifier\n",
    "from sklearn.model_selection import RandomizedSearchCV\n",
    "from sklearn.metrics import make_scorer, f1_score\n",
    "rf = RandomForestClassifier(class_weight='balanced', random_state=42)\n",
    "param_dist = {\n",
    "    'n_estimators': [100, 200, 300, 500],\n",
    "    'max_depth': [5, 10, 15, 20, None],\n",
    "    'min_samples_split': [2, 5, 10, 15],\n",
    "    'min_samples_leaf': [1, 2, 4, 8],\n",
    "    'max_features': ['sqrt', 'log2', None],\n",
    "    'bootstrap': [True, False]\n",
    "}\n",
    "scorer = make_scorer(f1_score, pos_label=1)\n",
    "random_search = RandomizedSearchCV(\n",
    "    estimator=rf,\n",
    "    param_distributions=param_dist,\n",
    "    n_iter=50,              \n",
    "    scoring=scorer,\n",
    "    cv=3,                   \n",
    "    verbose=2,\n",
    "    random_state=42,\n",
    "    n_jobs=-1\n",
    ")\n",
    "random_search.fit(X_train, y_train)\n",
    "print(\"Best Parameters:\", random_search.best_params_)\n",
    "print(\"Best F1 Score (class 1):\", random_search.best_score_)"
   ]
  },
  {
   "cell_type": "code",
   "execution_count": 52,
   "id": "9e810496-bfb3-4adc-9443-06b916b990ae",
   "metadata": {},
   "outputs": [
    {
     "name": "stdout",
     "output_type": "stream",
     "text": [
      "Classification Report for random forest:\n",
      "               precision    recall  f1-score   support\n",
      "\n",
      "           0       0.96      0.93      0.94     23160\n",
      "           1       0.39      0.56      0.46      1969\n",
      "\n",
      "    accuracy                           0.90     25129\n",
      "   macro avg       0.68      0.74      0.70     25129\n",
      "weighted avg       0.92      0.90      0.91     25129\n",
      "\n"
     ]
    }
   ],
   "source": [
    "model_3=RandomForestClassifier(class_weight='balanced', random_state=42,n_estimators=200,min_samples_split= 2,min_samples_leaf= 8,max_features= 'log2',max_depth= None,bootstrap= True)\n",
    "model_3.fit(X_train,y_train)\n",
    "y_pred = model_3.predict(X_test)\n",
    "report = classification_report(y_test, y_pred)\n",
    "print(\"Classification Report for random forest:\\n\", report)"
   ]
  },
  {
   "cell_type": "code",
   "execution_count": 54,
   "id": "1a708c86-ea23-4140-ad75-9a66aba036ce",
   "metadata": {},
   "outputs": [
    {
     "name": "stdout",
     "output_type": "stream",
     "text": [
      "Threshold: 0.20 | Recall: 0.828 | Precision: 0.204 | F1: 0.327\n",
      "Threshold: 0.25 | Recall: 0.782 | Precision: 0.235 | F1: 0.361\n",
      "Threshold: 0.30 | Recall: 0.734 | Precision: 0.266 | F1: 0.390\n",
      "Threshold: 0.35 | Recall: 0.687 | Precision: 0.297 | F1: 0.415\n",
      "Threshold: 0.40 | Recall: 0.639 | Precision: 0.326 | F1: 0.432\n",
      "Threshold: 0.45 | Recall: 0.597 | Precision: 0.362 | F1: 0.450\n",
      "Threshold: 0.50 | Recall: 0.555 | Precision: 0.389 | F1: 0.458\n",
      "Threshold: 0.55 | Recall: 0.517 | Precision: 0.424 | F1: 0.466\n"
     ]
    }
   ],
   "source": [
    "y_prob = model_3.predict_proba(X_test)[:, 1]\n",
    "import numpy as np\n",
    "from sklearn.metrics import f1_score, precision_score, recall_score, classification_report\n",
    "\n",
    "thresholds = np.arange(0.2, 0.6, 0.05)\n",
    "for t in thresholds:\n",
    "    y_pred_thresh = (y_prob >= t).astype(int)\n",
    "    f1 = f1_score(y_test, y_pred_thresh)\n",
    "    recall = recall_score(y_test, y_pred_thresh)\n",
    "    precision = precision_score(y_test, y_pred_thresh)\n",
    "    print(f\"Threshold: {t:.2f} | Recall: {recall:.3f} | Precision: {precision:.3f} | F1: {f1:.3f}\")"
   ]
  },
  {
   "cell_type": "code",
   "execution_count": 24,
   "id": "a942b43b-6cb8-4585-ac74-d7d23c4df68e",
   "metadata": {},
   "outputs": [],
   "source": [
    "import xgboost as xgb\n",
    "from sklearn.model_selection import RandomizedSearchCV\n",
    "from sklearn.metrics import make_scorer, f1_score"
   ]
  },
  {
   "cell_type": "code",
   "execution_count": 25,
   "id": "85d9be8c-b0c0-486a-81a4-73c093dc46c6",
   "metadata": {},
   "outputs": [
    {
     "name": "stdout",
     "output_type": "stream",
     "text": [
      "scale_pos_weight: 11.758695100279258\n"
     ]
    }
   ],
   "source": [
    "n_zeros = sum(y_train == 0)\n",
    "n_ones = sum(y_train == 1)\n",
    "scale_pos_weight = n_zeros / n_ones\n",
    "print(\"scale_pos_weight:\", scale_pos_weight)"
   ]
  },
  {
   "cell_type": "code",
   "execution_count": 26,
   "id": "96a1d624-1088-4e1c-b8a6-02b9830133b2",
   "metadata": {},
   "outputs": [],
   "source": [
    "xgb_clf = xgb.XGBClassifier(\n",
    "    objective='binary:logistic',\n",
    "    eval_metric='auc',\n",
    "    use_label_encoder=False,\n",
    "    random_state=42,\n",
    "    scale_pos_weight=scale_pos_weight\n",
    ")"
   ]
  },
  {
   "cell_type": "code",
   "execution_count": 27,
   "id": "669ec744-aecc-475d-9741-58c409fed867",
   "metadata": {},
   "outputs": [],
   "source": [
    "param_dist = {\n",
    "    'n_estimators': [100, 200, 300, 500],\n",
    "    'max_depth': [3, 5, 7, 10],\n",
    "    'learning_rate': [0.01, 0.05, 0.1, 0.2],\n",
    "    'subsample': [0.6, 0.7, 0.8, 1.0],\n",
    "    'colsample_bytree': [0.6, 0.7, 0.8, 1.0],\n",
    "    'gamma': [0, 0.1, 0.3, 0.5],\n",
    "    'reg_alpha': [0, 0.01, 0.1, 1],\n",
    "    'reg_lambda': [1, 1.5, 2, 3]\n",
    "}"
   ]
  },
  {
   "cell_type": "code",
   "execution_count": 28,
   "id": "ed2913e0-4645-4bf8-8ee2-f3093391f66a",
   "metadata": {},
   "outputs": [],
   "source": [
    "scorer = make_scorer(f1_score, pos_label=1)"
   ]
  },
  {
   "cell_type": "code",
   "execution_count": 29,
   "id": "24c8a4cc-24cf-44d9-a90e-cbcfa7677a0d",
   "metadata": {},
   "outputs": [
    {
     "name": "stdout",
     "output_type": "stream",
     "text": [
      "Fitting 3 folds for each of 50 candidates, totalling 150 fits\n"
     ]
    },
    {
     "name": "stderr",
     "output_type": "stream",
     "text": [
      "C:\\Users\\gscke\\anaconda3\\Lib\\site-packages\\xgboost\\training.py:183: UserWarning: [22:41:04] WARNING: C:\\actions-runner\\_work\\xgboost\\xgboost\\src\\learner.cc:738: \n",
      "Parameters: { \"use_label_encoder\" } are not used.\n",
      "\n",
      "  bst.update(dtrain, iteration=i, fobj=obj)\n"
     ]
    },
    {
     "name": "stdout",
     "output_type": "stream",
     "text": [
      "Best Parameters: {'subsample': 1.0, 'reg_lambda': 3, 'reg_alpha': 1, 'n_estimators': 500, 'max_depth': 10, 'learning_rate': 0.05, 'gamma': 0, 'colsample_bytree': 0.7}\n",
      "Best F1 Score (class 1): 0.41417699318781814\n"
     ]
    }
   ],
   "source": [
    "random_search = RandomizedSearchCV(\n",
    "    estimator=xgb_clf,\n",
    "    param_distributions=param_dist,\n",
    "    n_iter=50,       # number of random combinations\n",
    "    scoring=scorer,\n",
    "    cv=3,\n",
    "    verbose=2,\n",
    "    random_state=42,\n",
    "    n_jobs=-1\n",
    ")\n",
    "random_search.fit(X_train, y_train)\n",
    "print(\"Best Parameters:\", random_search.best_params_)\n",
    "print(\"Best F1 Score (class 1):\", random_search.best_score_)"
   ]
  },
  {
   "cell_type": "code",
   "execution_count": 30,
   "id": "f1a1a7c2-1f8b-4862-ad38-0adaa5a6104f",
   "metadata": {},
   "outputs": [
    {
     "name": "stdout",
     "output_type": "stream",
     "text": [
      "              precision    recall  f1-score   support\n",
      "\n",
      "           0       0.96      0.90      0.93     23160\n",
      "           1       0.32      0.58      0.41      1969\n",
      "\n",
      "    accuracy                           0.87     25129\n",
      "   macro avg       0.64      0.74      0.67     25129\n",
      "weighted avg       0.91      0.87      0.89     25129\n",
      "\n"
     ]
    }
   ],
   "source": [
    "y_pred = random_search.predict(X_test)\n",
    "from sklearn.metrics import classification_report\n",
    "print(classification_report(y_test, y_pred))"
   ]
  },
  {
   "cell_type": "code",
   "execution_count": 31,
   "id": "eedd17fc-6236-4c20-a698-553114889098",
   "metadata": {},
   "outputs": [
    {
     "name": "stdout",
     "output_type": "stream",
     "text": [
      "              precision    recall  f1-score   support\n",
      "\n",
      "           0       0.96      0.90      0.93     23160\n",
      "           1       0.32      0.58      0.41      1969\n",
      "\n",
      "    accuracy                           0.87     25129\n",
      "   macro avg       0.64      0.74      0.67     25129\n",
      "weighted avg       0.91      0.87      0.89     25129\n",
      "\n"
     ]
    }
   ],
   "source": [
    "y_prob = random_search.predict_proba(X_test)[:, 1]\n",
    "print(classification_report(y_test, y_pred))"
   ]
  },
  {
   "cell_type": "code",
   "execution_count": 32,
   "id": "637e77b8-3e29-4ef3-aeca-66c933ec3f96",
   "metadata": {},
   "outputs": [
    {
     "name": "stdout",
     "output_type": "stream",
     "text": [
      "Threshold: 0.20 | Recall: 0.826 | Precision: 0.181 | F1: 0.297\n",
      "Threshold: 0.25 | Recall: 0.781 | Precision: 0.203 | F1: 0.322\n",
      "Threshold: 0.30 | Recall: 0.741 | Precision: 0.226 | F1: 0.346\n",
      "Threshold: 0.35 | Recall: 0.703 | Precision: 0.249 | F1: 0.367\n",
      "Threshold: 0.40 | Recall: 0.663 | Precision: 0.275 | F1: 0.389\n",
      "Threshold: 0.45 | Recall: 0.618 | Precision: 0.300 | F1: 0.404\n",
      "Threshold: 0.50 | Recall: 0.575 | Precision: 0.324 | F1: 0.415\n",
      "Threshold: 0.55 | Recall: 0.539 | Precision: 0.353 | F1: 0.426\n"
     ]
    }
   ],
   "source": [
    "import numpy as np\n",
    "from sklearn.metrics import f1_score, precision_score, recall_score, classification_report\n",
    "\n",
    "thresholds = np.arange(0.2, 0.6, 0.05)\n",
    "for t in thresholds:\n",
    "    y_pred_thresh = (y_prob >= t).astype(int)\n",
    "    f1 = f1_score(y_test, y_pred_thresh)\n",
    "    recall = recall_score(y_test, y_pred_thresh)\n",
    "    precision = precision_score(y_test, y_pred_thresh)\n",
    "    print(f\"Threshold: {t:.2f} | Recall: {recall:.3f} | Precision: {precision:.3f} | F1: {f1:.3f}\")"
   ]
  },
  {
   "cell_type": "code",
   "execution_count": 33,
   "id": "34af5fd4-3e84-442f-b620-d372d763d163",
   "metadata": {},
   "outputs": [],
   "source": [
    "best_model=random_search"
   ]
  },
  {
   "cell_type": "code",
   "execution_count": 34,
   "id": "563ac9bb-5dd0-41a7-9721-168a539355f3",
   "metadata": {},
   "outputs": [
    {
     "data": {
      "text/plain": [
       "['scaler.pkl']"
      ]
     },
     "execution_count": 34,
     "metadata": {},
     "output_type": "execute_result"
    }
   ],
   "source": [
    "import joblib\n",
    "joblib.dump(best_model,\"xgb_loan_default_model.pkl\")\n",
    "joblib.dump(scaler, \"scaler.pkl\")"
   ]
  },
  {
   "cell_type": "code",
   "execution_count": 35,
   "id": "8c98f042-cf96-455f-9ebd-11eb11761336",
   "metadata": {},
   "outputs": [],
   "source": [
    "loaded_model = joblib.load(\"xgb_loan_default_model.pkl\")\n",
    "loaded_scaler = joblib.load(\"scaler.pkl\")"
   ]
  },
  {
   "cell_type": "code",
   "execution_count": 40,
   "id": "ddf019a3-9db2-4eb1-b693-33d16aae21f2",
   "metadata": {},
   "outputs": [],
   "source": [
    "import pandas as pd\n",
    "import numpy as np\n",
    "new_data = {\n",
    "    'RevolvingUtilizationOfUnsecuredLines': [0.5],\n",
    "    'age': [45],\n",
    "    'NumberOfTime30-59DaysPastDueNotWorse': [1],\n",
    "    'DebtRatio': [0.3],\n",
    "    'MonthlyIncome': [5000],\n",
    "    'NumberOfOpenCreditLinesAndLoans': [5],\n",
    "    'NumberOfTimes90DaysLate': [0],\n",
    "    'NumberRealEstateLoansOrLines': [1],\n",
    "    'NumberOfTime60-89DaysPastDueNotWorse': [0],\n",
    "    'NumberOfDependents': [2],\n",
    "    'IncomeMissing': [0]\n",
    "}\n",
    "\n",
    "new_df = pd.DataFrame(new_data) \n",
    "new_scaled = loaded_scaler.transform(new_df)\n"
   ]
  },
  {
   "cell_type": "code",
   "execution_count": 39,
   "id": "0d61331d-027f-4f70-af2a-231180686cdb",
   "metadata": {},
   "outputs": [
    {
     "name": "stdout",
     "output_type": "stream",
     "text": [
      "Predicted probability of default: 0.35962763\n",
      "Predicted class (0=No Default, 1=Default) with threshold 0.3: 1\n"
     ]
    }
   ],
   "source": [
    "prob = loaded_model.predict_proba(new_scaled)[:, 1]\n",
    "# Apply custom threshold\n",
    "threshold = 0.3\n",
    "pred = (prob >= threshold).astype(int)\n",
    "print(\"Predicted probability of default:\", prob[0])\n",
    "print(\"Predicted class (0=No Default, 1=Default) with threshold 0.3:\", pred[0])\n"
   ]
  }
 ],
 "metadata": {
  "kernelspec": {
   "display_name": "Python 3 (ipykernel)",
   "language": "python",
   "name": "python3"
  },
  "language_info": {
   "codemirror_mode": {
    "name": "ipython",
    "version": 3
   },
   "file_extension": ".py",
   "mimetype": "text/x-python",
   "name": "python",
   "nbconvert_exporter": "python",
   "pygments_lexer": "ipython3",
   "version": "3.11.7"
  }
 },
 "nbformat": 4,
 "nbformat_minor": 5
}
